{
 "cells": [
  {
   "cell_type": "markdown",
   "metadata": {},
   "source": [
    "# Generate data.diagnostics without the two smallest diatoms"
   ]
  },
  {
   "cell_type": "code",
   "execution_count": 1,
   "metadata": {},
   "outputs": [],
   "source": [
    "import re"
   ]
  },
  {
   "cell_type": "code",
   "execution_count": 2,
   "metadata": {},
   "outputs": [],
   "source": [
    "infilename='data.diagnostics.bak'\n",
    "outfilename='data.diagnostics.linebyline'"
   ]
  },
  {
   "cell_type": "code",
   "execution_count": 3,
   "metadata": {},
   "outputs": [],
   "source": [
    "DATA_DIA_RE=re.compile(r\"\"\"^\\ \\ fields\\(\n",
    "(?P<fieldno>.\\d)\n",
    ",\n",
    "(?P<fileno>\\d)\n",
    "\\)\\ =\\ '\n",
    "(?P<tracername>.{4})\n",
    "(?P<tracerno>.{2})\n",
    "(?P<twospaces>.{2})\n",
    ".*$\"\"\",\n",
    "                       re.VERBOSE)"
   ]
  },
  {
   "cell_type": "markdown",
   "metadata": {},
   "source": [
    "Remove tracer for biomass of diatom 3 $\\mu m$ (TRAC35), tracer for biomass of diatom 4 $\\mu m$ (TRAC36), tracer for chlorophyll of diatom 3 $\\mu m$ (TRAC86) and tracer for chlorophyll of diatom 4 $\\mu m$ (TRAC87)."
   ]
  },
  {
   "cell_type": "code",
   "execution_count": 4,
   "metadata": {},
   "outputs": [],
   "source": [
    "infile=open(infilename,'r')\n",
    "outfile=open(outfilename,'w')\n",
    "d={'0a':'96',\n",
    "   '0b':'97',\n",
    "   '0c':'98',\n",
    "   '0d':'99',\n",
    "   '0e':'0a',\n",
    "   '0f':'0b',\n",
    "   '0g':'0c',\n",
    "  }\n",
    "for line in infile:\n",
    "    lineout=line\n",
    "    match=DATA_DIA_RE.match(line)\n",
    "    if match:\n",
    "        fieldno=int(match.group(\"fieldno\"))\n",
    "        fileno=int(match.group(\"fileno\"))\n",
    "        if fileno==1 and fieldno<=34:\n",
    "            tracerno=int(match.group(\"tracerno\"))\n",
    "            lineout=\"  fields({0:2},{1:1}) = '{2}{3:02}{4}',\\n\".format(\n",
    "                fieldno,\n",
    "                fileno,\n",
    "                match.group(\"tracername\"),\n",
    "                tracerno,\n",
    "                match.group(\"twospaces\"))\n",
    "        if fileno==1 and (fieldno==35 or fieldno==36):\n",
    "            lineout=\"\"\n",
    "        if fileno==1 and fieldno>=37 and fieldno<=71:\n",
    "            tracerno=int(match.group(\"tracerno\"))\n",
    "            lineout=\"  fields({0:2},{1:1}) = '{2}{3:02}{4}',\\n\".format(\n",
    "                fieldno-2,\n",
    "                fileno,\n",
    "                match.group(\"tracername\"),\n",
    "                tracerno-2,\n",
    "                match.group(\"twospaces\"))\n",
    "        if fileno==1 and fieldno>=72:\n",
    "            lineout=\"  fields({0:2},{1:1}) = '{2}{3}{4}',\\n\".format(\n",
    "                fieldno-2,\n",
    "                fileno,\n",
    "                match.group(\"tracername\"),\n",
    "                match.group(\"tracerno\"),\n",
    "                match.group(\"twospaces\"))\n",
    "        if fileno==2 and fieldno<=14:\n",
    "            tracerno=int(match.group(\"tracerno\"))\n",
    "            lineout=\"  fields({0:2},{1:1}) = '{2}{3:02}{4}',\\n\".format(\n",
    "                fieldno,\n",
    "                fileno,\n",
    "                match.group(\"tracername\"),\n",
    "                tracerno-2,\n",
    "                match.group(\"twospaces\"))\n",
    "        if fileno==2 and (fieldno==15 or fieldno==16):\n",
    "            lineout=\"\"\n",
    "        if fileno==2 and fieldno>=17 and fieldno<=28:\n",
    "            tracerno=int(match.group(\"tracerno\"))\n",
    "            lineout=\"  fields({0:2},{1:1}) = '{2}{3:02}{4}',\\n\".format(\n",
    "                fieldno-2,\n",
    "                fileno,\n",
    "                match.group(\"tracername\"),\n",
    "                tracerno-4,\n",
    "                match.group(\"twospaces\"))\n",
    "        if fileno==2 and fieldno>=29:\n",
    "            lineout=\"  fields({0:2},{1:1}) = '{2}{3}{4}',\\n\".format(\n",
    "                fieldno-2,\n",
    "                fileno,\n",
    "                match.group(\"tracername\"),\n",
    "                d[match.group(\"tracerno\")],\n",
    "                match.group(\"twospaces\"))\n",
    "    outfile.write(lineout)\n",
    "infile.close()\n",
    "outfile.close()"
   ]
  }
 ],
 "metadata": {
  "kernelspec": {
   "display_name": "Python 3",
   "language": "python",
   "name": "python3"
  },
  "language_info": {
   "codemirror_mode": {
    "name": "ipython",
    "version": 3
   },
   "file_extension": ".py",
   "mimetype": "text/x-python",
   "name": "python",
   "nbconvert_exporter": "python",
   "pygments_lexer": "ipython3",
   "version": "3.7.3"
  }
 },
 "nbformat": 4,
 "nbformat_minor": 2
}
