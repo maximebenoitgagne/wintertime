{
 "cells": [
  {
   "cell_type": "markdown",
   "metadata": {},
   "source": [
    "# Generate data.ptracers without the two smallest diatoms"
   ]
  },
  {
   "cell_type": "code",
   "execution_count": 1,
   "metadata": {},
   "outputs": [],
   "source": [
    "outfilename='data.ptracers'"
   ]
  },
  {
   "cell_type": "markdown",
   "metadata": {},
   "source": [
    "Remove tracer for biomass of diatom 3 $\\mu m$, tracer for biomass of diatom 4 $\\mu m$, tracer for chlorophyll of diatom 3 $\\mu m$ and tracer for chlorophyll of diatom 4 $\\mu m$."
   ]
  },
  {
   "cell_type": "markdown",
   "metadata": {},
   "source": [
    "Write empty file."
   ]
  },
  {
   "cell_type": "code",
   "execution_count": 2,
   "metadata": {},
   "outputs": [],
   "source": [
    "outfile=open(outfilename,'w')\n",
    "outfile.close()"
   ]
  },
  {
   "cell_type": "code",
   "execution_count": 3,
   "metadata": {},
   "outputs": [
    {
     "data": {
      "text/plain": [
       "2474"
      ]
     },
     "execution_count": 3,
     "metadata": {},
     "output_type": "execute_result"
    }
   ],
   "source": [
    "outfile=open(outfilename,'a')\n",
    "outfile.write(\n",
    "\"\"\" &PTRACERS_PARM01\n",
    " PTRACERS_numInUse=102,\n",
    " PTRACERS_Iter0= 0,\n",
    "#\n",
    " PTRACERS_advScheme=102*33,\n",
    " PTRACERS_diffKh=102*0.E3,\n",
    " PTRACERS_diffKr=102*1.E-5,\n",
    " PTRACERS_useGMRedi=102*.FALSE.,\n",
    " PTRACERS_useKPP=102*.TRUE.,\n",
    "#\n",
    " PTRACERS_names(1)= 'DIC',\n",
    " PTRACERS_names(2)= 'NH4',\n",
    " PTRACERS_names(3)= 'NO2',\n",
    " PTRACERS_names(4)= 'NO3',\n",
    " PTRACERS_names(5)= 'PO4',\n",
    " PTRACERS_names(6)= 'SiO2',\n",
    " PTRACERS_names(7)= 'FeT',\n",
    " PTRACERS_names(8)= 'DOC',\n",
    " PTRACERS_names(9)= 'DON',\n",
    " PTRACERS_names(10)= 'DOP',\n",
    " PTRACERS_names(11)= 'DOFe',\n",
    " PTRACERS_names(12)= 'POC',\n",
    " PTRACERS_names(13)= 'PON',\n",
    " PTRACERS_names(14)= 'POP',\n",
    " PTRACERS_names(15)= 'POSi',\n",
    " PTRACERS_names(16)= 'POFe',\n",
    " PTRACERS_names(17)= 'PIC',\n",
    " PTRACERS_names(18)= 'ALK',\n",
    " PTRACERS_names(19)= 'O2',\n",
    "       PTRACERS_names(20)= 'CDOM01',\n",
    "       PTRACERS_names(21)= 'c01',\n",
    "       PTRACERS_names(22)= 'c02',\n",
    "       PTRACERS_names(23)= 'c03',\n",
    "       PTRACERS_names(24)= 'c04',\n",
    "       PTRACERS_names(25)= 'c05',\n",
    "       PTRACERS_names(26)= 'c06',\n",
    "       PTRACERS_names(27)= 'c07',\n",
    "       PTRACERS_names(28)= 'c08',\n",
    "       PTRACERS_names(29)= 'c09',\n",
    "       PTRACERS_names(30)= 'c10',\n",
    "       PTRACERS_names(31)= 'c11',\n",
    "       PTRACERS_names(32)= 'c12',\n",
    "       PTRACERS_names(33)= 'c13',\n",
    "       PTRACERS_names(34)= 'c14',\n",
    "       PTRACERS_names(35)= 'c15',\n",
    "       PTRACERS_names(36)= 'c16',\n",
    "       PTRACERS_names(37)= 'c17',\n",
    "       PTRACERS_names(38)= 'c18',\n",
    "       PTRACERS_names(39)= 'c19',\n",
    "       PTRACERS_names(40)= 'c20',\n",
    "       PTRACERS_names(41)= 'c21',\n",
    "       PTRACERS_names(42)= 'c22',\n",
    "       PTRACERS_names(43)= 'c23',\n",
    "       PTRACERS_names(44)= 'c24',\n",
    "       PTRACERS_names(45)= 'c25',\n",
    "       PTRACERS_names(46)= 'c26',\n",
    "       PTRACERS_names(47)= 'c27',\n",
    "       PTRACERS_names(48)= 'c28',\n",
    "       PTRACERS_names(49)= 'c29',\n",
    "       PTRACERS_names(50)= 'c30',\n",
    "       PTRACERS_names(51)= 'c31',\n",
    "       PTRACERS_names(52)= 'c32',\n",
    "       PTRACERS_names(53)= 'c33',\n",
    "       PTRACERS_names(54)= 'c34',\n",
    "       PTRACERS_names(55)= 'c35',\n",
    "       PTRACERS_names(56)= 'c36',\n",
    "       PTRACERS_names(57)= 'c37',\n",
    "       PTRACERS_names(58)= 'c38',\n",
    "       PTRACERS_names(59)= 'c39',\n",
    "       PTRACERS_names(60)= 'c40',\n",
    "       PTRACERS_names(61)= 'c41',\n",
    "       PTRACERS_names(61)= 'c41',\n",
    "       PTRACERS_names(62)= 'c42',\n",
    "       PTRACERS_names(63)= 'c43',\n",
    "       PTRACERS_names(64)= 'c44',\n",
    "       PTRACERS_names(65)= 'c45',\n",
    "       PTRACERS_names(66)= 'c46',\n",
    "       PTRACERS_names(67)= 'c47',\n",
    "       PTRACERS_names(68)= 'c48',\n",
    "       PTRACERS_names(69)= 'c49',\n",
    "\"\"\"\n",
    ")"
   ]
  },
  {
   "cell_type": "code",
   "execution_count": 4,
   "metadata": {},
   "outputs": [],
   "source": [
    "for chlno in range(1,34):\n",
    "    ptracerno=chlno+69\n",
    "    lineout=\"       PTRACERS_names({0})= 'Chl{1:02}',\\n\".format(\n",
    "        ptracerno,\n",
    "        chlno\n",
    "    )\n",
    "    outfile.write(lineout)"
   ]
  },
  {
   "cell_type": "code",
   "execution_count": 5,
   "metadata": {},
   "outputs": [
    {
     "data": {
      "text/plain": [
       "2208"
      ]
     },
     "execution_count": 5,
     "metadata": {},
     "output_type": "execute_result"
    }
   ],
   "source": [
    "outfile.write(\n",
    "\"\"\"\n",
    " PTRACERS_units(1)='mmol C/m^3',\n",
    " PTRACERS_units(2)='mmol N/m^3',\n",
    " PTRACERS_units(3)='mmol N/m^3',\n",
    " PTRACERS_units(4)='mmol N/m^3',\n",
    " PTRACERS_units(5)='mmol P/m^3',\n",
    " PTRACERS_units(6)='mmol Si/m^3',\n",
    " PTRACERS_units(7)='mmol Fe/m^3',\n",
    " PTRACERS_units(8)='mmol C/m^3',\n",
    " PTRACERS_units(9)='mmol N/m^3',\n",
    " PTRACERS_units(10)='mmol P/m^3',\n",
    " PTRACERS_units(11)='mmol Fe/m^3',\n",
    " PTRACERS_units(12)='mmol C/m^3',\n",
    " PTRACERS_units(13)='mmol N/m^3',\n",
    " PTRACERS_units(14)='mmol P/m^3',\n",
    " PTRACERS_units(15)='mmol Si/m^3',\n",
    " PTRACERS_units(16)='mmol Fe/m^3',\n",
    " PTRACERS_units(17)='mmol C/m^3',\n",
    " PTRACERS_units(18)='mmol eq/m^3',\n",
    " PTRACERS_units(19)='mmol O/m^3',\n",
    " PTRACERS_units(20:69)=49*'mmol C/m^3',\n",
    " PTRACERS_units(70:102)=33*'mg/m^3',\n",
    "\n",
    " PTRACERS_initialFile(1)= 'input/1D_BB_DIC_GE_spring.delZ1016mm.32bits.bin',\n",
    " PTRACERS_initialFile(2)= 'input/loc1_NH4_run83_janprof.delZ1016mm.32bits.bin',\n",
    " PTRACERS_initialFile(3)= 'input/loc1_NO2_run83_janprof.delZ1016mm.32bits.bin',\n",
    " PTRACERS_initialFile(4)= 'input/1D_BB_NO3_GE_spring.delZ1016mm.32bits.bin',\n",
    " PTRACERS_initialFile(5)= 'input/1D_BB_PO4_GE_spring.delZ1016mm.32bits.bin',\n",
    " PTRACERS_initialFile(6)= 'input/1D_BB_Si_GE_spring.delZ1016mm.32bits.bin',\n",
    " PTRACERS_initialFile(7)= 'input/fet_uniform.delZ1016mm.32bits.bin',\n",
    " PTRACERS_ref(1:50,   8)=50*0.,\n",
    " PTRACERS_initialFile(9)= 'input/loc1_DON_run83_janprof.delZ1016mm.32bits.bin',\n",
    " PTRACERS_initialFile(10)='input/loc1_DOP_run83_janprof.delZ1016mm.32bits.bin',\n",
    " PTRACERS_initialFile(11)='input/loc1_DOFe_run83_janprof.delZ1016mm.32bits.bin',\n",
    " PTRACERS_ref(1:50,   12)=50*0.,\n",
    " PTRACERS_initialFile(13)='input/loc1_PON_run83_janprof.delZ1016mm.32bits.bin',\n",
    " PTRACERS_initialFile(14)='input/loc1_POP_run83_janprof.delZ1016mm.32bits.bin',\n",
    " PTRACERS_initialFile(15)='input/loc1_POSi_run83_janprof.delZ1016mm.32bits.bin',\n",
    " PTRACERS_initialFile(16)='input/loc1_POFe_run83_janprof.delZ1016mm.32bits.bin',\n",
    " PTRACERS_ref(1:50,   17)=50*0.,\n",
    " PTRACERS_initialFile(18)='input/1D_BB_ALK_GE_spring.delZ1016mm.32bits.bin',\n",
    " PTRACERS_initialFile(19)='input/1D_BB_O2_GE_spring.delZ1016mm.32bits.bin',\n",
    " PTRACERS_initialFile(20:69)=49*'input/loc1_biomass_x120_run83_janprof.delZ1016mm.32bits.bin',\n",
    " PTRACERS_initialFile(70:102)=33*' ',\n",
    " &\n",
    "\"\"\"\n",
    ")"
   ]
  },
  {
   "cell_type": "code",
   "execution_count": 6,
   "metadata": {},
   "outputs": [],
   "source": [
    "outfile.close()"
   ]
  }
 ],
 "metadata": {
  "kernelspec": {
   "display_name": "Python 3",
   "language": "python",
   "name": "python3"
  },
  "language_info": {
   "codemirror_mode": {
    "name": "ipython",
    "version": 3
   },
   "file_extension": ".py",
   "mimetype": "text/x-python",
   "name": "python",
   "nbconvert_exporter": "python",
   "pygments_lexer": "ipython3",
   "version": "3.7.3"
  }
 },
 "nbformat": 4,
 "nbformat_minor": 2
}
