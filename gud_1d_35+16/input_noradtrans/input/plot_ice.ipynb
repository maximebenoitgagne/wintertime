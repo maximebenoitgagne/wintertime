{
 "cells": [
  {
   "cell_type": "markdown",
   "id": "0b2b6716",
   "metadata": {},
   "source": [
    "# Plot ice"
   ]
  },
  {
   "cell_type": "markdown",
   "id": "e3817b4b",
   "metadata": {},
   "source": [
    "# First, load libraries"
   ]
  },
  {
   "cell_type": "code",
   "execution_count": 1,
   "id": "b41ffb05",
   "metadata": {},
   "outputs": [],
   "source": [
    "import matplotlib as mpl\n",
    "import matplotlib.pyplot as plt\n",
    "import netcdf_tools\n",
    "import numpy as np\n",
    "import pandas as pd\n",
    "\n",
    "plt.close(\"all\")"
   ]
  },
  {
   "cell_type": "markdown",
   "id": "4d9a29c1",
   "metadata": {},
   "source": [
    "# Select year"
   ]
  },
  {
   "cell_type": "code",
   "execution_count": 2,
   "id": "3294fd8c",
   "metadata": {},
   "outputs": [],
   "source": [
    "ndays=365"
   ]
  },
  {
   "cell_type": "code",
   "execution_count": 3,
   "id": "6b93bd8b",
   "metadata": {},
   "outputs": [],
   "source": [
    "first_year=np.arange(0,365)"
   ]
  },
  {
   "cell_type": "markdown",
   "id": "ded6ccb0",
   "metadata": {},
   "source": [
    "# Observations"
   ]
  },
  {
   "cell_type": "markdown",
   "id": "430e1def",
   "metadata": {},
   "source": [
    "## Observations: ice concentration"
   ]
  },
  {
   "cell_type": "markdown",
   "id": "ea4fe36f",
   "metadata": {},
   "source": [
    "Break-up was on 18 July 2016 (Oziel et al., 2019)."
   ]
  },
  {
   "cell_type": "code",
   "execution_count": 4,
   "id": "807febb4",
   "metadata": {},
   "outputs": [],
   "source": [
    "obsice=np.empty(365)\n",
    "obsice[:]=np.NaN\n",
    "obsice[0:199]=1\n",
    "obsice[199]=0"
   ]
  },
  {
   "cell_type": "markdown",
   "id": "207f563f",
   "metadata": {},
   "source": [
    "Day of $in\\ situ$ sea ice break-up:"
   ]
  },
  {
   "cell_type": "code",
   "execution_count": 5,
   "id": "f6ffa37f",
   "metadata": {},
   "outputs": [],
   "source": [
    "iT15_start_obs=next(i for i,v in enumerate(obsice) if v < 0.15)"
   ]
  },
  {
   "cell_type": "markdown",
   "id": "de8a6155",
   "metadata": {},
   "source": [
    "## Observations: snow and ice thickness"
   ]
  },
  {
   "cell_type": "markdown",
   "id": "d73e6552",
   "metadata": {},
   "source": [
    "The file Ice thickness from https://www.seanoe.org/data/00487/59892/ contains $in\\ situ$ snow and ice thickness at the Green Edge sea ice camps 2015 and 2016 ($67.48^\\circ N$, $-63.79^\\circ E$). Variable 'sample_thickness_cm_average' is the snow or ice thickness ($cm$)."
   ]
  },
  {
   "cell_type": "markdown",
   "id": "f36bea5d",
   "metadata": {},
   "source": [
    "### Observations: snow and ice thickness: load dataset"
   ]
  },
  {
   "cell_type": "code",
   "execution_count": 6,
   "id": "6465be8d",
   "metadata": {},
   "outputs": [],
   "source": [
    "def load_thickness():\n",
    "    fname='../../../obs/66407.csv'\n",
    "    df = (\n",
    "        pd.read_csv(\n",
    "            fname,\n",
    "            dtype={\n",
    "                'mission': 'string',\n",
    "                'date': str,\n",
    "                'date_time': str,\n",
    "                'latitude': np.float32,\n",
    "                'longitude': np.float32,\n",
    "                'sample_type': 'category',\n",
    "                'sample_thickness_cm_average': np.float32,\n",
    "                'sample_thickness_cm_sd': np.float32,\n",
    "                'pi': 'category'\n",
    "            },\n",
    "            parse_dates=['date','date_time']\n",
    "        )\n",
    "    )\n",
    "    df['doy']=df['date'].apply(lambda x:x.timetuple().tm_yday)\n",
    "    df['sample_thickness_m_average']=df['sample_thickness_cm_average'] \\\n",
    "    .apply(lambda x:x/100)\n",
    "    return df"
   ]
  },
  {
   "cell_type": "code",
   "execution_count": 7,
   "id": "d045efcf",
   "metadata": {},
   "outputs": [],
   "source": [
    "thickness_df=load_thickness()"
   ]
  },
  {
   "cell_type": "markdown",
   "id": "f4e9f4b3",
   "metadata": {},
   "source": [
    "### Observations: snow and ice thickness: select"
   ]
  },
  {
   "cell_type": "markdown",
   "id": "b6fb3fdf",
   "metadata": {},
   "source": [
    "We select the observations of snow thickness at the ice camp 2016."
   ]
  },
  {
   "cell_type": "code",
   "execution_count": 8,
   "id": "8527e121",
   "metadata": {},
   "outputs": [],
   "source": [
    "snow_thickness_df=thickness_df[(thickness_df.mission=='ice_camp_2016') \\\n",
    "                               & (thickness_df.sample_type=='snow')]"
   ]
  },
  {
   "cell_type": "markdown",
   "id": "cc7516a2",
   "metadata": {},
   "source": [
    "We select the observations of ice thickness at the ice camp 2016."
   ]
  },
  {
   "cell_type": "code",
   "execution_count": 9,
   "id": "6926f91f",
   "metadata": {},
   "outputs": [],
   "source": [
    "ice_thickness_df=thickness_df[(thickness_df.mission=='ice_camp_2016') \\\n",
    "                              & (thickness_df.sample_type=='ice')]"
   ]
  },
  {
   "cell_type": "markdown",
   "id": "79773e45",
   "metadata": {},
   "source": [
    "# Model NEMO-LIM3"
   ]
  },
  {
   "cell_type": "markdown",
   "id": "1de6387b",
   "metadata": {},
   "source": [
    "## Ice concentration"
   ]
  },
  {
   "cell_type": "markdown",
   "id": "fc68450c",
   "metadata": {},
   "source": [
    "### Ice concentration: from 2013 to 2017"
   ]
  },
  {
   "cell_type": "markdown",
   "id": "f802f127",
   "metadata": {},
   "source": [
    "Variable 'ice concentration' is the sea ice concentration ($unitless$, between 0 and 1).\n",
    "It is at indices (1,1) meaning centre of grid point was used.\n",
    "File 'Ice_d.nc' is the output of NEMO3.6+LIM3.6 configured by Gaetan Olivier (UBO) for the Green Edge ice camp 2016 ($67.48^\\circ N$, $-63.79^\\circ E$)."
   ]
  },
  {
   "cell_type": "code",
   "execution_count": 10,
   "id": "92fe4562",
   "metadata": {
    "scrolled": true
   },
   "outputs": [],
   "source": [
    "ice_file='Ice_d.nc'\n",
    "array1d_iT_ice_concentrationfull= \\\n",
    "netcdf_tools.read_netcdf(ice_file,'ice concentration')\n",
    "array1d_iT_ice_concentrationfull=array1d_iT_ice_concentrationfull[:,1,1]"
   ]
  },
  {
   "cell_type": "markdown",
   "id": "0a90a518",
   "metadata": {},
   "source": [
    "### Ice concentration: from 2016"
   ]
  },
  {
   "cell_type": "code",
   "execution_count": 11,
   "id": "e2be14a0",
   "metadata": {},
   "outputs": [],
   "source": [
    "array1d_iT_ice_concentration=array1d_iT_ice_concentrationfull[ndays*3:ndays*4]"
   ]
  },
  {
   "cell_type": "markdown",
   "id": "8d29b8c4",
   "metadata": {},
   "source": [
    "# Snow volume"
   ]
  },
  {
   "cell_type": "markdown",
   "id": "a97b7e2f",
   "metadata": {},
   "source": [
    "Snow volume is the weighted average of snow thickness averaged by the sea ice concentration. For example, if there is $50\\%$ of sea ice concentration and $2\\ m$ of snow on the sea ice-covered part of the pixel, snow volume will be $1\\ m$. The expression 'snow thickness' in the labels of the plots corresponds to the variable 'snow volume' in NEMO-LIM3 and the NetCDF file Ice_d.nc."
   ]
  },
  {
   "cell_type": "markdown",
   "id": "8fbdc275",
   "metadata": {},
   "source": [
    "Variable 'snow volume' is the snow volume ($m$).\n",
    "It is at indices (1,1) meaning centre of grid point was used.\n",
    "File 'Ice_d.nc' is the output of NEMO3.6+LIM3.6 configured by Gaetan Olivier (UBO) for the Green Edge ice camp 2016 ($67.48^\\circ N$, $-63.79^\\circ E$)."
   ]
  },
  {
   "cell_type": "markdown",
   "id": "c54152fe",
   "metadata": {},
   "source": [
    "## Snow volume: from 2013 to 2017"
   ]
  },
  {
   "cell_type": "code",
   "execution_count": 12,
   "id": "4537f6f6",
   "metadata": {},
   "outputs": [],
   "source": [
    "array1d_iT_snow_volumefull=\\\n",
    "netcdf_tools.read_netcdf(ice_file,'snow volume')\n",
    "array1d_iT_snow_volumefull=array1d_iT_snow_volumefull[:,1,1]"
   ]
  },
  {
   "cell_type": "markdown",
   "id": "03862c13",
   "metadata": {},
   "source": [
    "## Snow volume: from 2016"
   ]
  },
  {
   "cell_type": "code",
   "execution_count": 13,
   "id": "7f69dc83",
   "metadata": {},
   "outputs": [],
   "source": [
    "array1d_iT_snow_volume=array1d_iT_snow_volumefull[ndays*3:ndays*4]"
   ]
  },
  {
   "cell_type": "markdown",
   "id": "05a815fc",
   "metadata": {},
   "source": [
    "# Ice volume"
   ]
  },
  {
   "cell_type": "markdown",
   "id": "a7f8294e",
   "metadata": {},
   "source": [
    "Ice volume is the weighted average of ice thickness averaged by the sea ice concentration. For example, if there is $50\\%$ of sea ice concentration and $2\\ m$ of ice on the sea ice-covered part of the pixel, ice volume will be $1\\ m$. The expression 'ice thickness' in the labels of the plots corresponds to the variable 'ice volume' in NEMO-LIM3 and the NetCDF file Ice_d.nc."
   ]
  },
  {
   "cell_type": "markdown",
   "id": "8b27130a",
   "metadata": {},
   "source": [
    "Variable 'ice volume' is the ice volume ($m$).\n",
    "It is at indices (1,1) meaning centre of grid point was used.\n",
    "File 'Ice_d.nc' is the output of NEMO3.6+LIM3.6 configured by Gaetan Olivier (UBO) for the Green Edge ice camp 2016 ($67.48^\\circ N$, $-63.79^\\circ E$)."
   ]
  },
  {
   "cell_type": "markdown",
   "id": "7c70ccef",
   "metadata": {},
   "source": [
    "## Ice volume: from 2013 to 2017"
   ]
  },
  {
   "cell_type": "code",
   "execution_count": 14,
   "id": "2bf7be04",
   "metadata": {},
   "outputs": [],
   "source": [
    "array1d_iT_ice_volumefull=\\\n",
    "netcdf_tools.read_netcdf(ice_file,'ice volume')\n",
    "array1d_iT_ice_volumefull=array1d_iT_ice_volumefull[:,1,1]"
   ]
  },
  {
   "cell_type": "markdown",
   "id": "1500fb02",
   "metadata": {},
   "source": [
    "## Ice volume: from 2016"
   ]
  },
  {
   "cell_type": "code",
   "execution_count": 15,
   "id": "39412968",
   "metadata": {},
   "outputs": [],
   "source": [
    "array1d_iT_ice_volume=array1d_iT_ice_volumefull[ndays*3:ndays*4]"
   ]
  },
  {
   "cell_type": "markdown",
   "id": "4a0802fb",
   "metadata": {},
   "source": [
    "# Plot"
   ]
  },
  {
   "cell_type": "code",
   "execution_count": 19,
   "id": "4a580c27",
   "metadata": {
    "scrolled": true
   },
   "outputs": [
    {
     "data": {
      "image/png": "[encoded data removed]",
      "text/plain": [
       "<Figure size 1152x432 with 3 Axes>"
      ]
     },
     "metadata": {
      "needs_background": "light"
     },
     "output_type": "display_data"
    }
   ],
   "source": [
    "with plt.style.context('validation.mplstyle'):\n",
    "    locs=np.array([0, 31, 59, 90, 120, 151,\n",
    "                   181, 212, 243, 273, 304, 334])\n",
    "    labels=('Jan-1','Feb-1','Mar-1','Apr-1','May-1','Jun-1',\n",
    "            'Jul-1','Aug-1','Sep-1','Oct-1','Nov-1','Dec-1')\n",
    "    fig,axs=plt.subplots(3,1,sharex=False,figsize=(16, 6))\n",
    "\n",
    "    # --- ICE CONCENTRATIONS\n",
    "    ax=axs[0]\n",
    "    ax.plot(first_year,array1d_iT_ice_concentration*100,\n",
    "           '-',color='black',lw=2.5)\n",
    "    ax.set_xlim(first_year[0],first_year[-1])\n",
    "    xlims=ax.get_xlim()\n",
    "    ax.set_xticks(locs)\n",
    "    ax.set_xticklabels([])\n",
    "    ax.set_yticks([0,50,100])\n",
    "    ax.set_ylabel('Ice conc.\\n(%)')\n",
    "    ax.set_ylim(0,100)\n",
    "    ax.grid()\n",
    "    plt.text(0.03,0.7,'A',\n",
    "             horizontalalignment = 'center',verticalalignment='center',\n",
    "             transform=ax.transAxes, fontsize=30)\n",
    "    # adding the vertical line at 15% of observed ice\n",
    "    ax.axvline(iT15_start_obs,linestyle='--',color='black')\n",
    "\n",
    "    # --- SNOW AND ICE THICKNESS\n",
    "    ax=axs[1]\n",
    "    h1=ax.fill_between(first_year,array1d_iT_snow_volume,\n",
    "                       linestyle='-',color='aliceblue',linewidth=1)\n",
    "    h2=ax.plot(first_year,array1d_iT_snow_volume,\n",
    "               linestyle='-',color='black')\n",
    "    h3=ax.plot((snow_thickness_df['doy']-1).to_numpy(),\n",
    "              snow_thickness_df['sample_thickness_m_average'].to_numpy(),\n",
    "              'o',color='black')\n",
    "    ax.set_xlim(xlims)\n",
    "    ax.set_xticks(locs)\n",
    "    ax.set_xticklabels([])\n",
    "    ax.set_ylabel('Thickness (m)')\n",
    "    ax.set_ylim(-1.7,0.6)\n",
    "    ax.grid()\n",
    "    ax.text(60,0.1,'snow',\n",
    "            horizontalalignment = 'left',verticalalignment = 'center',\n",
    "            fontsize=20)\n",
    "    h4=ax.fill_between(first_year,-array1d_iT_ice_volume,\n",
    "                       linestyle='-',color='dodgerblue',linewidth=1)\n",
    "    h5=ax.plot(first_year,-array1d_iT_ice_volume,\n",
    "               linestyle='-',color='black')\n",
    "    h6=ax.plot((ice_thickness_df['doy']-1).to_numpy(),\n",
    "              -ice_thickness_df['sample_thickness_m_average'].to_numpy(),\n",
    "              'o',color='black')\n",
    "    ax.text(60,-0.15,'ice',\n",
    "            horizontalalignment = 'left',verticalalignment = 'center',\n",
    "            fontsize=20)\n",
    "    ax.legend([h2[0],h3[0]],['model','obs'],loc=4)\n",
    "    plt.text(0.03,0.89,'B',\n",
    "             horizontalalignment = 'center',verticalalignment='center',\n",
    "             transform=ax.transAxes, fontsize=30)\n",
    "    # adding the vertical line at 15% of observed ice\n",
    "    ax.axvline(iT15_start_obs,linestyle='--',color='black')\n",
    "\n",
    "    # --- ADDITIONAL X-AXIS\n",
    "    ax=axs[2]\n",
    "    ax.set_xlim(xlims)\n",
    "    ax.set_xticks(locs)\n",
    "    ax.set_xticklabels(labels)\n",
    "    ax.axes.get_yaxis().set_visible(False)\n",
    "    ax.spines['top'].set_visible(False)\n",
    "\n",
    "    # --- POSITION\n",
    "    axs[0].set_position( [0.12,0.80  ,0.65,.15])\n",
    "    axs[1].set_position( [0.12,0.15  ,0.65,.60])\n",
    "    axs[2].set_position( [0.12,0.10  ,0.65,.01])\n",
    "\n",
    "    # --- SAVE\n",
    "    plt.savefig('Ice_d.png')"
   ]
  }
 ],
 "metadata": {
  "kernelspec": {
   "display_name": "Python 3 (ipykernel)",
   "language": "python",
   "name": "python3"
  },
  "language_info": {
   "codemirror_mode": {
    "name": "ipython",
    "version": 3
   },
   "file_extension": ".py",
   "mimetype": "text/x-python",
   "name": "python",
   "nbconvert_exporter": "python",
   "pygments_lexer": "ipython3",
   "version": "3.7.12"
  }
 },
 "nbformat": 4,
 "nbformat_minor": 5
}
