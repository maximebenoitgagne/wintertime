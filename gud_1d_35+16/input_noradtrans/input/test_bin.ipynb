{
 "cells": [
  {
   "cell_type": "markdown",
   "id": "6abaa13d",
   "metadata": {},
   "source": [
    "# Test if two binary files are equal"
   ]
  },
  {
   "cell_type": "code",
   "execution_count": 1,
   "id": "a06a06f4",
   "metadata": {},
   "outputs": [],
   "source": [
    "import numpy as np"
   ]
  },
  {
   "cell_type": "code",
   "execution_count": 2,
   "id": "f74ba614",
   "metadata": {},
   "outputs": [],
   "source": [
    "file1='1D_NEMO_PARice_y2016.365.32bits.bin'\n",
    "file2='1D_NEMO_PARice_y2016.365.32bits.bak.bin'"
   ]
  },
  {
   "cell_type": "code",
   "execution_count": 3,
   "id": "7f93dfe9",
   "metadata": {},
   "outputs": [],
   "source": [
    "array1d_i_v1=np.fromfile(file1,dtype='>f4')\n",
    "array1d_i_v2=np.fromfile(file2,dtype='>f4')"
   ]
  },
  {
   "cell_type": "code",
   "execution_count": 4,
   "id": "38b9ad0c",
   "metadata": {},
   "outputs": [
    {
     "data": {
      "text/plain": [
       "True"
      ]
     },
     "execution_count": 4,
     "metadata": {},
     "output_type": "execute_result"
    }
   ],
   "source": [
    "np.array_equal(array1d_i_v1,array1d_i_v2)"
   ]
  },
  {
   "cell_type": "code",
   "execution_count": 5,
   "id": "a31cfbcb",
   "metadata": {},
   "outputs": [],
   "source": [
    "file1='1D_GDPS_PAR_y2016.365.32bits.bin'\n",
    "file2='1D_GDPS_PAR_y2016.365.32bits.bak.bin'"
   ]
  },
  {
   "cell_type": "code",
   "execution_count": 6,
   "id": "8d309e46",
   "metadata": {},
   "outputs": [],
   "source": [
    "array1d_i_v1=np.fromfile(file1,dtype='>f4')\n",
    "array1d_i_v2=np.fromfile(file2,dtype='>f4')"
   ]
  },
  {
   "cell_type": "code",
   "execution_count": 7,
   "id": "5af5de86",
   "metadata": {},
   "outputs": [
    {
     "data": {
      "text/plain": [
       "True"
      ]
     },
     "execution_count": 7,
     "metadata": {},
     "output_type": "execute_result"
    }
   ],
   "source": [
    "np.array_equal(array1d_i_v1,array1d_i_v2)"
   ]
  }
 ],
 "metadata": {
  "kernelspec": {
   "display_name": "Python 3 (ipykernel)",
   "language": "python",
   "name": "python3"
  },
  "language_info": {
   "codemirror_mode": {
    "name": "ipython",
    "version": 3
   },
   "file_extension": ".py",
   "mimetype": "text/x-python",
   "name": "python",
   "nbconvert_exporter": "python",
   "pygments_lexer": "ipython3",
   "version": "3.7.12"
  }
 },
 "nbformat": 4,
 "nbformat_minor": 5
}
