{
 "cells": [
  {
   "cell_type": "markdown",
   "metadata": {},
   "source": [
    "copy repertories from ouptut directory to the external hard drive max01"
   ]
  },
  {
   "cell_type": "code",
   "execution_count": 1,
   "metadata": {},
   "outputs": [],
   "source": [
    "import os\n",
    "import os.path\n",
    "import subprocess"
   ]
  },
  {
   "cell_type": "code",
   "execution_count": 2,
   "metadata": {},
   "outputs": [],
   "source": [
    "source='/Users/maximebenoit-gagne/Google Drive/Doctorat/Chapitre1/scripts/seasonal_variation/gud/output'\n",
    "destination='/Volumes/max01/Backup/Google Drive/Doctorat/Chapitre1/scripts/seasonal_variation/gud/output'"
   ]
  },
  {
   "cell_type": "code",
   "execution_count": 3,
   "metadata": {},
   "outputs": [],
   "source": [
    "list_dirs=['run_20200228_0001_35p16_green_edge_rbcs_def_PARUICE_t00_10y',\n",
    "           'run_20200228_0002_35p16_green_edge_rbcs_def_PARUICE_t00_10y',\n",
    "           'run_20200302_0001_35p16_green_edge_rbcs_PTRACERS_diffKr0_def_PARUICE_t00_10y',\n",
    "           'run_20200302_0002_35p16_green_edge_rbcs_winter_def_PARUICE_t00_10y',\n",
    "           'run_20200303_0002_35p16_green_edge_rbcs_def_PARUICE_t00_10y',\n",
    "           'run_20200303_0003_35p16_green_edge_rbcs_winter_def_PARUICE_t00_10y',\n",
    "           'run_20200304_0001_35p16_green_edge_rbcs_winter_PTRACERS_diffKrEm5_def_PARUICE_t00_10y',\n",
    "           'run_20200407_0001_35p16_green_edge_rbcs_winter_all_PTRACERS_diffKr0_def_PARUICE_t00_10y',\n",
    "           'run_20200415_0001_35p16_green_edge_GUD_physiology_def_PARUICE_t00_10y',\n",
    "           'run_20200415_0001_35p16_green_edge_rbcs_winter_all_PTRACERS_diffKrEm5_def_PARUICE_t00_10y',\n",
    "           'run_20200428_0001_35p16_green_edge_rbcs_winter_all_avmaxDIC7_195_def_PARUICE_t00_10y',\n",
    "           'run_20200429_0001_35p16_green_edge_rbcs_winter_all_avmaxDIC7_0975_def_PARUICE_t00_10y',\n",
    "           'run_20200506_0001_35p16_green_edge_rbcs_winter_all_PTRACERS_diffKrEm5_def_PARUICE_t00_10y',\n",
    "           'run_20200511_0001_33p16_green_edge_rbcs_winter_all_avmaxDIC7_195_def_PARUICE_t00_10y',\n",
    "           'run_20200513_0001_33p16_green_edge_rbcs_winter_all_avmaxDIC7_195_kn2_def_PARUICE_t00_10y',\n",
    "           'run_20200513_0002_33p16_green_edge_rbcs_winter_all_avmaxDIC7_195_kn2_SiC026_def_PARUICE_t00_10y',\n",
    "           'run_20200518_0001_33p16_green_edge_rbcs_winter_all_anondia11_adia05_kn2_SiC026_def_PARUICE_t00_10y',\n",
    "           'run_20200520_0001_33p16_green_edge_rbcs_winter_all_anondia12_adia06_kn2_SiC026_def_PARUICE_t00_10y'\n",
    "          ]"
   ]
  },
  {
   "cell_type": "code",
   "execution_count": 4,
   "metadata": {},
   "outputs": [
    {
     "name": "stdout",
     "output_type": "stream",
     "text": [
      "copying: /Users/maximebenoit-gagne/Google Drive/Doctorat/Chapitre1/scripts/seasonal_variation/gud/output/run_20200228_0001_35p16_green_edge_rbcs_def_PARUICE_t00_10y\n",
      "copying: /Users/maximebenoit-gagne/Google Drive/Doctorat/Chapitre1/scripts/seasonal_variation/gud/output/run_20200228_0002_35p16_green_edge_rbcs_def_PARUICE_t00_10y\n",
      "copying: /Users/maximebenoit-gagne/Google Drive/Doctorat/Chapitre1/scripts/seasonal_variation/gud/output/run_20200302_0001_35p16_green_edge_rbcs_PTRACERS_diffKr0_def_PARUICE_t00_10y\n",
      "copying: /Users/maximebenoit-gagne/Google Drive/Doctorat/Chapitre1/scripts/seasonal_variation/gud/output/run_20200302_0002_35p16_green_edge_rbcs_winter_def_PARUICE_t00_10y\n",
      "copying: /Users/maximebenoit-gagne/Google Drive/Doctorat/Chapitre1/scripts/seasonal_variation/gud/output/run_20200303_0002_35p16_green_edge_rbcs_def_PARUICE_t00_10y\n",
      "copying: /Users/maximebenoit-gagne/Google Drive/Doctorat/Chapitre1/scripts/seasonal_variation/gud/output/run_20200303_0003_35p16_green_edge_rbcs_winter_def_PARUICE_t00_10y\n",
      "copying: /Users/maximebenoit-gagne/Google Drive/Doctorat/Chapitre1/scripts/seasonal_variation/gud/output/run_20200304_0001_35p16_green_edge_rbcs_winter_PTRACERS_diffKrEm5_def_PARUICE_t00_10y\n",
      "copying: /Users/maximebenoit-gagne/Google Drive/Doctorat/Chapitre1/scripts/seasonal_variation/gud/output/run_20200407_0001_35p16_green_edge_rbcs_winter_all_PTRACERS_diffKr0_def_PARUICE_t00_10y\n",
      "copying: /Users/maximebenoit-gagne/Google Drive/Doctorat/Chapitre1/scripts/seasonal_variation/gud/output/run_20200415_0001_35p16_green_edge_GUD_physiology_def_PARUICE_t00_10y\n",
      "copying: /Users/maximebenoit-gagne/Google Drive/Doctorat/Chapitre1/scripts/seasonal_variation/gud/output/run_20200415_0001_35p16_green_edge_rbcs_winter_all_PTRACERS_diffKrEm5_def_PARUICE_t00_10y\n",
      "copying: /Users/maximebenoit-gagne/Google Drive/Doctorat/Chapitre1/scripts/seasonal_variation/gud/output/run_20200428_0001_35p16_green_edge_rbcs_winter_all_avmaxDIC7_195_def_PARUICE_t00_10y\n",
      "copying: /Users/maximebenoit-gagne/Google Drive/Doctorat/Chapitre1/scripts/seasonal_variation/gud/output/run_20200429_0001_35p16_green_edge_rbcs_winter_all_avmaxDIC7_0975_def_PARUICE_t00_10y\n",
      "copying: /Users/maximebenoit-gagne/Google Drive/Doctorat/Chapitre1/scripts/seasonal_variation/gud/output/run_20200506_0001_35p16_green_edge_rbcs_winter_all_PTRACERS_diffKrEm5_def_PARUICE_t00_10y\n",
      "copying: /Users/maximebenoit-gagne/Google Drive/Doctorat/Chapitre1/scripts/seasonal_variation/gud/output/run_20200511_0001_33p16_green_edge_rbcs_winter_all_avmaxDIC7_195_def_PARUICE_t00_10y\n",
      "copying: /Users/maximebenoit-gagne/Google Drive/Doctorat/Chapitre1/scripts/seasonal_variation/gud/output/run_20200513_0001_33p16_green_edge_rbcs_winter_all_avmaxDIC7_195_kn2_def_PARUICE_t00_10y\n",
      "copying: /Users/maximebenoit-gagne/Google Drive/Doctorat/Chapitre1/scripts/seasonal_variation/gud/output/run_20200513_0002_33p16_green_edge_rbcs_winter_all_avmaxDIC7_195_kn2_SiC026_def_PARUICE_t00_10y\n",
      "copying: /Users/maximebenoit-gagne/Google Drive/Doctorat/Chapitre1/scripts/seasonal_variation/gud/output/run_20200518_0001_33p16_green_edge_rbcs_winter_all_anondia11_adia05_kn2_SiC026_def_PARUICE_t00_10y\n",
      "copying: /Users/maximebenoit-gagne/Google Drive/Doctorat/Chapitre1/scripts/seasonal_variation/gud/output/run_20200520_0001_33p16_green_edge_rbcs_winter_all_anondia12_adia06_kn2_SiC026_def_PARUICE_t00_10y\n"
     ]
    }
   ],
   "source": [
    "for one_dir in list_dirs:\n",
    "    current_dir=os.path.join(source, one_dir)\n",
    "    print('copying:',current_dir)\n",
    "    subprocess.call([\"rsync\", \"--archive\", \"--recursive\", \"--verbose\", \"--progress\",\n",
    "                     current_dir, destination])"
   ]
  }
 ],
 "metadata": {
  "kernelspec": {
   "display_name": "Python 3",
   "language": "python",
   "name": "python3"
  },
  "language_info": {
   "codemirror_mode": {
    "name": "ipython",
    "version": 3
   },
   "file_extension": ".py",
   "mimetype": "text/x-python",
   "name": "python",
   "nbconvert_exporter": "python",
   "pygments_lexer": "ipython3",
   "version": "3.7.3"
  }
 },
 "nbformat": 4,
 "nbformat_minor": 2
}
