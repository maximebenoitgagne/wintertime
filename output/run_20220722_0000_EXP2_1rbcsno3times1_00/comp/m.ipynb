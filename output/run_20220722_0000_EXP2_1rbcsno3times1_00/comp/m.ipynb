{
 "cells": [
  {
   "cell_type": "markdown",
   "id": "66c2f7d2",
   "metadata": {},
   "source": [
    "# Calculate slope between initiation and start of the bloom peak ($m$)"
   ]
  },
  {
   "cell_type": "markdown",
   "id": "5827f244",
   "metadata": {},
   "source": [
    "# First, load libraries"
   ]
  },
  {
   "cell_type": "code",
   "execution_count": 1,
   "id": "3d1fa393",
   "metadata": {},
   "outputs": [],
   "source": [
    "import numpy as np\n",
    "import pandas as pd"
   ]
  },
  {
   "cell_type": "markdown",
   "id": "96831432",
   "metadata": {},
   "source": [
    "# Slope"
   ]
  },
  {
   "cell_type": "markdown",
   "id": "b3569458",
   "metadata": {},
   "source": [
    "tI: date of the bloom initiation (day of year, 1-based).\n",
    "\n",
    "cI: vertically integrated Chl $a$ just before the bloom initiation (0-100m; $mg\\ Chl\\ m^{-3}$).\n",
    "\n",
    "tP: date of the start of the bloom peak period (day of year, 1-based).\n",
    "\n",
    "cP: vertically integrated Chl a at tP (0-100m; $mg\\ Chl\\ m^{-3}$).\n",
    "\n",
    "m: slope of of IP."
   ]
  },
  {
   "cell_type": "markdown",
   "id": "bd38dd50",
   "metadata": {},
   "source": [
    "$m=\\frac{log(c_P)-log(c_I)}{t_P-t_I}$"
   ]
  },
  {
   "cell_type": "markdown",
   "id": "4510a17e",
   "metadata": {},
   "source": [
    "# Slopes in the model world"
   ]
  },
  {
   "cell_type": "code",
   "execution_count": 2,
   "id": "9b11f559",
   "metadata": {},
   "outputs": [],
   "source": [
    "d={'simulation':['EXP-0','EXP-1.1','EXP-1.2','EXP-1.3.0_25','EXP-1.3.0.50','EXP-1.3.2_00','EXP-1.3.4_00'],\n",
    "   'tI'        :[ 163,    201,      165,      163,           163,           163,           163],\n",
    "   'cI'        :[ 2.467,  1.878,    0.0002427,2.518,         2.506,         2.504,         2.504],\n",
    "   'tP'        :[ 198,    225,      228,      191,           194,           198,           198],\n",
    "   'cP'        :[ 40.311, 73.113,   43.370,   25.567,        34.789,        41.044,        41.223]\n",
    "  }\n",
    "simulations_df=pd.DataFrame(data=d)"
   ]
  },
  {
   "cell_type": "code",
   "execution_count": 3,
   "id": "602134da",
   "metadata": {},
   "outputs": [
    {
     "data": {
      "text/plain": [
       "{'simulation': ['EXP-0',\n",
       "  'EXP-1.1',\n",
       "  'EXP-1.2',\n",
       "  'EXP-1.3.0_25',\n",
       "  'EXP-1.3.0.50',\n",
       "  'EXP-1.3.2_00',\n",
       "  'EXP-1.3.4_00'],\n",
       " 'tI': [163, 201, 165, 163, 163, 163, 163],\n",
       " 'cI': [2.467, 1.878, 0.0002427, 2.518, 2.506, 2.504, 2.504],\n",
       " 'tP': [198, 225, 228, 191, 194, 198, 198],\n",
       " 'cP': [40.311, 73.113, 43.37, 25.567, 34.789, 41.044, 41.223]}"
      ]
     },
     "execution_count": 3,
     "metadata": {},
     "output_type": "execute_result"
    }
   ],
   "source": [
    "d"
   ]
  },
  {
   "cell_type": "code",
   "execution_count": 4,
   "id": "e421d198",
   "metadata": {
    "scrolled": true
   },
   "outputs": [
    {
     "data": {
      "text/html": [
       "<div>\n",
       "<style scoped>\n",
       "    .dataframe tbody tr th:only-of-type {\n",
       "        vertical-align: middle;\n",
       "    }\n",
       "\n",
       "    .dataframe tbody tr th {\n",
       "        vertical-align: top;\n",
       "    }\n",
       "\n",
       "    .dataframe thead th {\n",
       "        text-align: right;\n",
       "    }\n",
       "</style>\n",
       "<table border=\"1\" class=\"dataframe\">\n",
       "  <thead>\n",
       "    <tr style=\"text-align: right;\">\n",
       "      <th></th>\n",
       "      <th>simulation</th>\n",
       "      <th>tI</th>\n",
       "      <th>cI</th>\n",
       "      <th>tP</th>\n",
       "      <th>cP</th>\n",
       "    </tr>\n",
       "  </thead>\n",
       "  <tbody>\n",
       "    <tr>\n",
       "      <th>0</th>\n",
       "      <td>EXP-0</td>\n",
       "      <td>163</td>\n",
       "      <td>2.467000</td>\n",
       "      <td>198</td>\n",
       "      <td>40.311</td>\n",
       "    </tr>\n",
       "    <tr>\n",
       "      <th>1</th>\n",
       "      <td>EXP-1.1</td>\n",
       "      <td>201</td>\n",
       "      <td>1.878000</td>\n",
       "      <td>225</td>\n",
       "      <td>73.113</td>\n",
       "    </tr>\n",
       "    <tr>\n",
       "      <th>2</th>\n",
       "      <td>EXP-1.2</td>\n",
       "      <td>165</td>\n",
       "      <td>0.000243</td>\n",
       "      <td>228</td>\n",
       "      <td>43.370</td>\n",
       "    </tr>\n",
       "    <tr>\n",
       "      <th>3</th>\n",
       "      <td>EXP-1.3.0_25</td>\n",
       "      <td>163</td>\n",
       "      <td>2.518000</td>\n",
       "      <td>191</td>\n",
       "      <td>25.567</td>\n",
       "    </tr>\n",
       "    <tr>\n",
       "      <th>4</th>\n",
       "      <td>EXP-1.3.0.50</td>\n",
       "      <td>163</td>\n",
       "      <td>2.506000</td>\n",
       "      <td>194</td>\n",
       "      <td>34.789</td>\n",
       "    </tr>\n",
       "    <tr>\n",
       "      <th>5</th>\n",
       "      <td>EXP-1.3.2_00</td>\n",
       "      <td>163</td>\n",
       "      <td>2.504000</td>\n",
       "      <td>198</td>\n",
       "      <td>41.044</td>\n",
       "    </tr>\n",
       "    <tr>\n",
       "      <th>6</th>\n",
       "      <td>EXP-1.3.4_00</td>\n",
       "      <td>163</td>\n",
       "      <td>2.504000</td>\n",
       "      <td>198</td>\n",
       "      <td>41.223</td>\n",
       "    </tr>\n",
       "  </tbody>\n",
       "</table>\n",
       "</div>"
      ],
      "text/plain": [
       "     simulation   tI        cI   tP      cP\n",
       "0         EXP-0  163  2.467000  198  40.311\n",
       "1       EXP-1.1  201  1.878000  225  73.113\n",
       "2       EXP-1.2  165  0.000243  228  43.370\n",
       "3  EXP-1.3.0_25  163  2.518000  191  25.567\n",
       "4  EXP-1.3.0.50  163  2.506000  194  34.789\n",
       "5  EXP-1.3.2_00  163  2.504000  198  41.044\n",
       "6  EXP-1.3.4_00  163  2.504000  198  41.223"
      ]
     },
     "execution_count": 4,
     "metadata": {},
     "output_type": "execute_result"
    }
   ],
   "source": [
    "simulations_df"
   ]
  },
  {
   "cell_type": "code",
   "execution_count": 5,
   "id": "e30cbd81",
   "metadata": {},
   "outputs": [],
   "source": [
    "simulations_df['m']=( np.log10(simulations_df['cP'])-np.log10(simulations_df['cI']) ) \\\n",
    "/(simulations_df['tP']-simulations_df['tI'])"
   ]
  },
  {
   "cell_type": "markdown",
   "id": "f58b90c1",
   "metadata": {},
   "source": [
    "Table 1. Features of the simulated blooms. tI is the date of the bloom initiation (day of year, 1-based). cI is the vertically integrated Chl $a$ just before the bloom initiation (0-100m; $mg\\ Chl\\ m^{-3}$). tP is the date of the start of the bloom peak period (day of year, 1-based). cP is the vertically integrated Chl a at tP (0-100m; $mg\\ Chl\\ m^{-3}$). m is the slope of of IP."
   ]
  },
  {
   "cell_type": "code",
   "execution_count": 6,
   "id": "b36f7e5b",
   "metadata": {
    "scrolled": false
   },
   "outputs": [
    {
     "data": {
      "text/html": [
       "<div>\n",
       "<style scoped>\n",
       "    .dataframe tbody tr th:only-of-type {\n",
       "        vertical-align: middle;\n",
       "    }\n",
       "\n",
       "    .dataframe tbody tr th {\n",
       "        vertical-align: top;\n",
       "    }\n",
       "\n",
       "    .dataframe thead th {\n",
       "        text-align: right;\n",
       "    }\n",
       "</style>\n",
       "<table border=\"1\" class=\"dataframe\">\n",
       "  <thead>\n",
       "    <tr style=\"text-align: right;\">\n",
       "      <th></th>\n",
       "      <th>simulation</th>\n",
       "      <th>tI</th>\n",
       "      <th>cI</th>\n",
       "      <th>tP</th>\n",
       "      <th>cP</th>\n",
       "      <th>m</th>\n",
       "    </tr>\n",
       "  </thead>\n",
       "  <tbody>\n",
       "    <tr>\n",
       "      <th>0</th>\n",
       "      <td>EXP-0</td>\n",
       "      <td>163</td>\n",
       "      <td>2.467000</td>\n",
       "      <td>198</td>\n",
       "      <td>40.311</td>\n",
       "      <td>0.034664</td>\n",
       "    </tr>\n",
       "    <tr>\n",
       "      <th>1</th>\n",
       "      <td>EXP-1.1</td>\n",
       "      <td>201</td>\n",
       "      <td>1.878000</td>\n",
       "      <td>225</td>\n",
       "      <td>73.113</td>\n",
       "      <td>0.066262</td>\n",
       "    </tr>\n",
       "    <tr>\n",
       "      <th>2</th>\n",
       "      <td>EXP-1.2</td>\n",
       "      <td>165</td>\n",
       "      <td>0.000243</td>\n",
       "      <td>228</td>\n",
       "      <td>43.370</td>\n",
       "      <td>0.083367</td>\n",
       "    </tr>\n",
       "    <tr>\n",
       "      <th>3</th>\n",
       "      <td>EXP-1.3.0_25</td>\n",
       "      <td>163</td>\n",
       "      <td>2.518000</td>\n",
       "      <td>191</td>\n",
       "      <td>25.567</td>\n",
       "      <td>0.035951</td>\n",
       "    </tr>\n",
       "    <tr>\n",
       "      <th>4</th>\n",
       "      <td>EXP-1.3.0.50</td>\n",
       "      <td>163</td>\n",
       "      <td>2.506000</td>\n",
       "      <td>194</td>\n",
       "      <td>34.789</td>\n",
       "      <td>0.036854</td>\n",
       "    </tr>\n",
       "    <tr>\n",
       "      <th>5</th>\n",
       "      <td>EXP-1.3.2_00</td>\n",
       "      <td>163</td>\n",
       "      <td>2.504000</td>\n",
       "      <td>198</td>\n",
       "      <td>41.044</td>\n",
       "      <td>0.034703</td>\n",
       "    </tr>\n",
       "    <tr>\n",
       "      <th>6</th>\n",
       "      <td>EXP-1.3.4_00</td>\n",
       "      <td>163</td>\n",
       "      <td>2.504000</td>\n",
       "      <td>198</td>\n",
       "      <td>41.223</td>\n",
       "      <td>0.034757</td>\n",
       "    </tr>\n",
       "  </tbody>\n",
       "</table>\n",
       "</div>"
      ],
      "text/plain": [
       "     simulation   tI        cI   tP      cP         m\n",
       "0         EXP-0  163  2.467000  198  40.311  0.034664\n",
       "1       EXP-1.1  201  1.878000  225  73.113  0.066262\n",
       "2       EXP-1.2  165  0.000243  228  43.370  0.083367\n",
       "3  EXP-1.3.0_25  163  2.518000  191  25.567  0.035951\n",
       "4  EXP-1.3.0.50  163  2.506000  194  34.789  0.036854\n",
       "5  EXP-1.3.2_00  163  2.504000  198  41.044  0.034703\n",
       "6  EXP-1.3.4_00  163  2.504000  198  41.223  0.034757"
      ]
     },
     "execution_count": 6,
     "metadata": {},
     "output_type": "execute_result"
    }
   ],
   "source": [
    "simulations_df"
   ]
  },
  {
   "cell_type": "code",
   "execution_count": 7,
   "id": "24d20083",
   "metadata": {
    "scrolled": true
   },
   "outputs": [
    {
     "data": {
      "text/plain": [
       "count    7.000000\n",
       "mean     0.046651\n",
       "std      0.019879\n",
       "min      0.034664\n",
       "25%      0.034730\n",
       "50%      0.035951\n",
       "75%      0.051558\n",
       "max      0.083367\n",
       "Name: m, dtype: float64"
      ]
     },
     "execution_count": 7,
     "metadata": {},
     "output_type": "execute_result"
    }
   ],
   "source": [
    "simulations_df['m'].describe()"
   ]
  },
  {
   "cell_type": "markdown",
   "id": "00d89caa",
   "metadata": {},
   "source": [
    "The range of values for the slope in the simulations was 0.035 to 0.083. The mean was 0.047 and the standard deviation was 0.020.\n",
    "\n",
    "Since these values were calculated from simulations, I would not use them for predictions.\n"
   ]
  },
  {
   "cell_type": "markdown",
   "id": "edc4f216",
   "metadata": {},
   "source": [
    "# Slopes in the real world"
   ]
  },
  {
   "cell_type": "code",
   "execution_count": 8,
   "id": "c8b39821",
   "metadata": {},
   "outputs": [],
   "source": [
    "infileGEic2015='../../../obs/GEic2015_ti_ci_tp_cp.csv'\n",
    "infileGEic2016='../../../obs/GEic2016_ti_ci_tp_cp.csv'"
   ]
  },
  {
   "cell_type": "code",
   "execution_count": 9,
   "id": "8357d8a3",
   "metadata": {},
   "outputs": [
    {
     "data": {
      "text/html": [
       "<div>\n",
       "<style scoped>\n",
       "    .dataframe tbody tr th:only-of-type {\n",
       "        vertical-align: middle;\n",
       "    }\n",
       "\n",
       "    .dataframe tbody tr th {\n",
       "        vertical-align: top;\n",
       "    }\n",
       "\n",
       "    .dataframe thead th {\n",
       "        text-align: right;\n",
       "    }\n",
       "</style>\n",
       "<table border=\"1\" class=\"dataframe\">\n",
       "  <thead>\n",
       "    <tr style=\"text-align: right;\">\n",
       "      <th></th>\n",
       "      <th>obs</th>\n",
       "      <th>tI</th>\n",
       "      <th>cI</th>\n",
       "      <th>tP</th>\n",
       "      <th>cP</th>\n",
       "    </tr>\n",
       "  </thead>\n",
       "  <tbody>\n",
       "    <tr>\n",
       "      <th>0</th>\n",
       "      <td>Qikiqtarjuaq2015</td>\n",
       "      <td>158</td>\n",
       "      <td>6.280748</td>\n",
       "      <td>195</td>\n",
       "      <td>314.640619</td>\n",
       "    </tr>\n",
       "    <tr>\n",
       "      <th>0</th>\n",
       "      <td>Qikiqtarjuaq2016</td>\n",
       "      <td>148</td>\n",
       "      <td>5.506525</td>\n",
       "      <td>197</td>\n",
       "      <td>204.442579</td>\n",
       "    </tr>\n",
       "  </tbody>\n",
       "</table>\n",
       "</div>"
      ],
      "text/plain": [
       "                obs   tI        cI   tP          cP\n",
       "0  Qikiqtarjuaq2015  158  6.280748  195  314.640619\n",
       "0  Qikiqtarjuaq2016  148  5.506525  197  204.442579"
      ]
     },
     "execution_count": 9,
     "metadata": {},
     "output_type": "execute_result"
    }
   ],
   "source": [
    "GEic2015_df=pd.read_csv(infileGEic2015)\n",
    "GEic2015_df.insert(loc=0,column='obs',value='Qikiqtarjuaq2015')\n",
    "GEic2016_df=pd.read_csv(infileGEic2016)\n",
    "GEic2016_df.insert(loc=0,column='obs',value='Qikiqtarjuaq2016')\n",
    "obs_df=pd.concat([GEic2015_df,GEic2016_df])\n",
    "obs_df"
   ]
  },
  {
   "cell_type": "code",
   "execution_count": 10,
   "id": "4b142ef7",
   "metadata": {},
   "outputs": [],
   "source": [
    "obs_df['m']=( np.log10(obs_df['cP'])-np.log10(obs_df['cI']) ) \\\n",
    "/(obs_df['tP']-obs_df['tI'])"
   ]
  },
  {
   "cell_type": "markdown",
   "id": "acfe121a",
   "metadata": {},
   "source": [
    "Table 1. Features of the observed blooms. tI is the date of the bloom initiation (day of year, 1-based). cI is the vertically integrated Chl $a$ just before the bloom initiation (0-100m; $mg\\ Chl\\ m^{-3}$). tP is the date of the start of the bloom peak period (day of year, 1-based). cP is the vertically integrated Chl a at tP (0-100m; $mg\\ Chl\\ m^{-3}$). m is the slope of of IP."
   ]
  },
  {
   "cell_type": "code",
   "execution_count": 11,
   "id": "2699461c",
   "metadata": {
    "scrolled": false
   },
   "outputs": [
    {
     "data": {
      "text/html": [
       "<div>\n",
       "<style scoped>\n",
       "    .dataframe tbody tr th:only-of-type {\n",
       "        vertical-align: middle;\n",
       "    }\n",
       "\n",
       "    .dataframe tbody tr th {\n",
       "        vertical-align: top;\n",
       "    }\n",
       "\n",
       "    .dataframe thead th {\n",
       "        text-align: right;\n",
       "    }\n",
       "</style>\n",
       "<table border=\"1\" class=\"dataframe\">\n",
       "  <thead>\n",
       "    <tr style=\"text-align: right;\">\n",
       "      <th></th>\n",
       "      <th>obs</th>\n",
       "      <th>tI</th>\n",
       "      <th>cI</th>\n",
       "      <th>tP</th>\n",
       "      <th>cP</th>\n",
       "      <th>m</th>\n",
       "    </tr>\n",
       "  </thead>\n",
       "  <tbody>\n",
       "    <tr>\n",
       "      <th>0</th>\n",
       "      <td>Qikiqtarjuaq2015</td>\n",
       "      <td>158</td>\n",
       "      <td>6.280748</td>\n",
       "      <td>195</td>\n",
       "      <td>314.640619</td>\n",
       "      <td>0.045941</td>\n",
       "    </tr>\n",
       "    <tr>\n",
       "      <th>0</th>\n",
       "      <td>Qikiqtarjuaq2016</td>\n",
       "      <td>148</td>\n",
       "      <td>5.506525</td>\n",
       "      <td>197</td>\n",
       "      <td>204.442579</td>\n",
       "      <td>0.032035</td>\n",
       "    </tr>\n",
       "  </tbody>\n",
       "</table>\n",
       "</div>"
      ],
      "text/plain": [
       "                obs   tI        cI   tP          cP         m\n",
       "0  Qikiqtarjuaq2015  158  6.280748  195  314.640619  0.045941\n",
       "0  Qikiqtarjuaq2016  148  5.506525  197  204.442579  0.032035"
      ]
     },
     "execution_count": 11,
     "metadata": {},
     "output_type": "execute_result"
    }
   ],
   "source": [
    "obs_df"
   ]
  },
  {
   "cell_type": "code",
   "execution_count": 12,
   "id": "4c11b386",
   "metadata": {
    "scrolled": true
   },
   "outputs": [
    {
     "data": {
      "text/plain": [
       "count    2.000000\n",
       "mean     0.038988\n",
       "std      0.009833\n",
       "min      0.032035\n",
       "25%      0.035511\n",
       "50%      0.038988\n",
       "75%      0.042464\n",
       "max      0.045941\n",
       "Name: m, dtype: float64"
      ]
     },
     "execution_count": 12,
     "metadata": {},
     "output_type": "execute_result"
    }
   ],
   "source": [
    "obs_df['m'].describe()"
   ]
  },
  {
   "cell_type": "markdown",
   "id": "8f37df17",
   "metadata": {},
   "source": [
    "The range of values for the slope in the observations was 0.032 to 0.046. The mean was 0.039 and the standard deviation was 0.0098."
   ]
  }
 ],
 "metadata": {
  "kernelspec": {
   "display_name": "Python 3 (ipykernel)",
   "language": "python",
   "name": "python3"
  },
  "language_info": {
   "codemirror_mode": {
    "name": "ipython",
    "version": 3
   },
   "file_extension": ".py",
   "mimetype": "text/x-python",
   "name": "python",
   "nbconvert_exporter": "python",
   "pygments_lexer": "ipython3",
   "version": "3.7.12"
  }
 },
 "nbformat": 4,
 "nbformat_minor": 5
}
